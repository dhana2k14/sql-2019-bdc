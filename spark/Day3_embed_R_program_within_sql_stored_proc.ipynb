{
    "metadata": {
        "kernelspec": {
            "name": "SQL",
            "display_name": "SQL",
            "language": "sql"
        },
        "language_info": {
            "name": "sql",
            "version": ""
        }
    },
    "nbformat_minor": 2,
    "nbformat": 4,
    "cells": [
        {
            "cell_type": "markdown",
            "source": [
                "#  Demo Notebook on SQL Server ML Services"
            ],
            "metadata": {
                "azdata_cell_guid": "081878c6-6951-4dfb-8a29-75e43308f87e"
            }
        },
        {
            "cell_type": "markdown",
            "source": [
                "This notebook explains how to embed R program within SQL Stored Procedure using SQL Server ML Services"
            ],
            "metadata": {
                "azdata_cell_guid": "98a85411-4be6-4a71-9c95-31d34bac2c4f"
            }
        },
        {
            "cell_type": "code",
            "source": [
                "use COE "
            ],
            "metadata": {
                "azdata_cell_guid": "a44b236d-dc02-4eb1-92eb-334c53b45a6b",
                "tags": []
            },
            "outputs": [],
            "execution_count": null
        },
        {
            "cell_type": "code",
            "source": [
                "-- create table to store model output and model name \r\n",
                "--\r\n",
                "\r\n",
                "if exists(select * from sys.tables where [name] = 'vendor_score_models')\r\n",
                "    drop table [COE].[dbo].[vendor_score_models] \r\n",
                "\r\n",
                "create table [COE].[dbo].vendor_score_models\r\n",
                "(\r\n",
                "    model_name varchar(100),\r\n",
                "    vendor_code varchar(100),\r\n",
                "    vendor_name varchar(100),\r\n",
                "    mat_cat_code varchar(100),\r\n",
                "    model varchar(max)\r\n",
                "\r\n",
                ")"
            ],
            "metadata": {
                "azdata_cell_guid": "ceb397f4-e2dc-46e8-82ee-278d259b745a",
                "tags": []
            },
            "outputs": [],
            "execution_count": null
        },
        {
            "cell_type": "code",
            "source": [
                "-- embed R script to get score for each vendors\r\n",
                "-- \r\n",
                "\r\n",
                "-- create procedure to run R Script \r\n",
                "--\r\n",
                "\r\n",
                "use COE \r\n",
                "go \r\n",
                "\r\n",
                "create or alter procedure [dbo].[vendor_scores] \r\n",
                "(\r\n",
                "    @model_name varchar(100)\r\n",
                ")\r\n",
                "as \r\n",
                "begin \r\n",
                "\r\n",
                "\r\n",
                "declare @model varchar(max),\r\n",
                "            @input_query nvarchar(max),\r\n",
                "            @input_script nvarchar(max)\r\n",
                "\r\n",
                "            -- set input data for script \r\n",
                "\r\n",
                "            set @input_query = N'\r\n",
                "            \r\n",
                "select vendor_code, vendor_name, material_category_code, acceptedfull, po_item_count, delivery_due, delivery_intime, offer_material_count from [dbo].[vpr_m001]';\r\n",
                "\r\n",
                "-- R Script to obtain vendor scores\r\n",
                "-- \r\n",
                "\r\n",
                "            set @input_script = N'\r\n",
                "\r\n",
                "vendor_score_fn <- function(input_data)\r\n",
                "                {\r\n",
                "                \r\n",
                "                output_data_frame = data.frame()\r\n",
                "\r\n",
                "                input_data$quality <- (input_data$acceptedfull / (input_data$po_item_count - input_data$delivery_due)) * 100\r\n",
                "                input_data$delivery <- (input_data$delivery_intime / (input_data$po_item_count - input_data$delivery_due)) * 100\r\n",
                "                input_data$price <- (input_data$po_item_count / input_data$offer_material_count) / 100\r\n",
                "\r\n",
                "                               \r\n",
                "               \r\n",
                "                input_data$supply_variety_1 = round((input_data$po_item_count - min(input_data$po_item_count))/\r\n",
                "                                                (max(input_data$po_item_count) - min(input_data$po_item_count)),3)\r\n",
                "                input_data$supply_variety_1[is.nan(input_data$supply_variety_1)] <- 0                \r\n",
                "                \r\n",
                "                input_data$quality[is.nan(input_data$quality)] <- 0\r\n",
                "                input_data$quality_1 <- (input_data$quality - min(input_data$quality)) / (max(input_data$quality) - min(input_data$quality))\r\n",
                "                input_data$quality_1[is.nan(input_data$quality_1)] <- 0\r\n",
                "                              \r\n",
                "                input_data$delivery[is.nan(input_data$delivery)] <- 0\r\n",
                "                input_data$delivery_1 <- round((input_data$delivery - min(input_data$delivery)) / (max(input_data$delivery) - min(input_data$delivery)),3)\r\n",
                "                input_data$delivery_1[is.nan(input_data$delivery_1)] <- 0\r\n",
                "                \r\n",
                "                input_data$price_1 = round((input_data$price - min(input_data$price)) / (max(input_data$price) - min(input_data$price)),3)\r\n",
                "                input_data$price_1[is.nan(input_data$price_1)] <- 0\r\n",
                "\r\n",
                "                \r\n",
                "                input_data$supply_variety_2 <- (1/1) * input_data$supply_variety_1\r\n",
                "\r\n",
                "                input_data$quality_2 <- (1/2) * (input_data$supply_variety_1 + input_data$quality_1)\r\n",
                "\r\n",
                "                input_data$delivery_2 <- (1/3) * (input_data$supply_variety_1 + input_data$quality_1 + input_data$delivery_1)\r\n",
                "\r\n",
                "                input_data$price_2 <- (1/4) * (input_data$supply_variety_1 + input_data$quality_1 + input_data$delivery_1 + input_data$price_1)\r\n",
                "              \r\n",
                "                output_data_frame <- data.frame(supply_variety_final = input_data$supply_variety_2, quality_final = input_data$quality_2, delivery_final = input_data$delivery_2, price_final = input_data$price_2)\r\n",
                "                output_data_frame$vendor_scores <- apply(output_data_frame, 1, max)\r\n",
                "                output_data_frame <- cbind(input_data$vendor_code, input_data$vendor_name, input_data$material_category_code, output_data_frame)\r\n",
                "                colnames(output_data_frame) <- c(\"vendor_code\", \"vendor_name\", \"material_category_code\", \"score\")\r\n",
                "                output_data_frame <- subset(output_data_frame, select = c(vendor_code, vendor_name, material_category_code, score))\r\n",
                "                              \r\n",
                "                return(output_data_frame)\r\n",
                "\r\n",
                "    }  \r\n",
                "\r\n",
                "    scores <- vendor_score_fn(input_data = indata)\r\n",
                "\r\n",
                "    OutputDataSet <- data.frame(model_name = model_name, vendor_code = scores$vendor_code, vendor_name = scores$vendor_name, mat_cat_code = scores$material_category_code, model = scores$score)\r\n",
                "\r\n",
                "    ';\r\n",
                "\r\n",
                "            --- save script to table \r\n",
                "            delete from vendor_score_models where model_name = @model_name;\r\n",
                "            insert into vendor_score_models (model_name, vendor_code, vendor_name, mat_cat_code, model) \r\n",
                "\r\n",
                "            --- execute external R script \r\n",
                "            ---\r\n",
                "\r\n",
                "            execute sp_execute_external_script \r\n",
                "\r\n",
                "            @language = N'R',\r\n",
                "            @script = @input_script,\r\n",
                "            @input_data_1 = @input_query,\r\n",
                "            @input_data_1_name = N'indata',\r\n",
                "            @params = N'@model_name varchar(100)',\r\n",
                "            @model_name = @model_name;\r\n",
                "\r\n",
                "end;\r\n",
                "go \r\n",
                ""
            ],
            "metadata": {
                "azdata_cell_guid": "ba8f8c33-03b9-4605-a6aa-1ba60a6de107",
                "tags": []
            },
            "outputs": [],
            "execution_count": null
        },
        {
            "cell_type": "code",
            "source": [
                "-- step 1\r\n",
                "--\r\n",
                "\r\n",
                "use COE \r\n",
                "go\r\n",
                "\r\n",
                "declare @model_name varchar(100) = 'vendor model (R)'\r\n",
                "EXECUTE [dbo].[vendor_scores] @model_name\r\n",
                "\r\n",
                "-- view top 10 rows \r\n",
                "-- \r\n",
                "select top 10 * from dbo.vendor_score_models where model_name = @model_name order by vendor_code"
            ],
            "metadata": {
                "azdata_cell_guid": "5e34958c-dbbc-4eba-ada5-f4b183518381",
                "tags": []
            },
            "outputs": [],
            "execution_count": null
        }
    ]
}