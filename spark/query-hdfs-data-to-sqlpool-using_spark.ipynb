{
    "metadata": {
        "kernelspec": {
            "name": "pysparkkernel",
            "display_name": "PySpark"
        },
        "language_info": {
            "name": "pyspark",
            "mimetype": "text/x-python",
            "codemirror_mode": {
                "name": "python",
                "version": 3
            },
            "pygments_lexer": "python3"
        }
    },
    "nbformat_minor": 2,
    "nbformat": 4,
    "cells": [
        {
            "cell_type": "markdown",
            "source": [
                "# Query HDFS Data and Store in SQL Data Pool\n",
                "\n",
                "## This notebook explains how to write HDFS data into a SQL Data Pool using Spark\n",
                "\n",
                "<u>Steps to follow:</u>\n",
                "\n",
                "1\\. Read data from HDFS & process it if necessary\n",
                "\n",
                "2\\. Write HDFS data in SQL Data Pool using JDBC"
            ],
            "metadata": {
                "azdata_cell_guid": "c8529350-3764-46e1-91db-33b1be521be0"
            }
        },
        {
            "cell_type": "code",
            "source": [
                "# define data path\r\n",
                "data_file = '/COE/news_data/news_rdd/sentiment_scores.csv'\r\n",
                "df = spark.read.format('csv').options(header = 'true', inferSchema = 'true', ignoreLeadingWhiteSpace = 'true', ignoreTrailingWhiteSpace = 'true').load(data_file)\r\n",
                "df.collect()"
            ],
            "metadata": {
                "azdata_cell_guid": "0f828a2e-81f0-4942-aeab-0a05c8165508",
                "tags": []
            },
            "outputs": [],
            "execution_count": null
        },
        {
            "cell_type": "code",
            "source": [
                "# print top 5 results \r\n",
                "df.show()"
            ],
            "metadata": {
                "azdata_cell_guid": "245919a8-ecbf-4930-8ca9-18625699937c"
            },
            "outputs": [
                {
                    "data": {
                        "text/plain": "FloatProgress(value=0.0, bar_style='info', description='Progress:', layout=Layout(height='25px', width='50%'),…",
                        "application/vnd.jupyter.widget-view+json": {
                            "version_major": 2,
                            "version_minor": 0,
                            "model_id": "2e73f0c6a7a74131bf6bb0632f3c356f"
                        }
                    },
                    "metadata": {},
                    "output_type": "display_data"
                },
                {
                    "name": "stdout",
                    "text": "+--------------+--------------------+--------------------+--------------------+--------------------+--------+--------+-------+--------+\n|            id|      search_company|             summary|               title|        scoring_text|polarity|positive|neutral|negative|\n+--------------+--------------------+--------------------+--------------------+--------------------+--------+--------+-------+--------+\n|20082425521615|C&S ELECTRIC LIMITED|Siemens gets CCI ...|Siemens gets CCI ...|{\"news\":\"Siemens ...|Positive|   0.625|  0.094|    null|\n|20082425521616|      ESSAR FORGINGS|Manufacturers & S...|      ESSAR FORGINGS|{\"news\":\"Manufact...|Negative|    null|   null|     1.5|\n|20082425521621|KAZIKHAN ENGINEER...|Kazikhan Engineer...|Kazikhan Engineer...|{\"news\":\"Kazikhan...|Negative|    null|  0.167|     0.5|\n|20082425521617|POWER TOOLS AND T...|WELCOME TO THE WO...|POWER TOOLS & TAC...|{\"news\":\"WELCOME ...|Positive|   0.333|  0.167|    null|\n|20082425521618|SHRI SAI ENTERPRISES|The product portf...|Shri Sai Enterprises|{\"news\":\"The prod...|Positive|     1.0|   null|    null|\n|20082425521619|UNITECH FABRICATO...|Registered in 201...|Unitech Fabricato...|{\"news\":\"Register...|Positive|     0.5|  0.125|    null|\n|20082425521620|      BHARAT TRADERS|Bharat Traders Li...|Bharat Traders Li...|{\"news\":\"Bharat T...|Negative|    null|  0.208|    0.25|\n+--------------+--------------------+--------------------+--------------------+--------------------+--------+--------+-------+--------+",
                    "output_type": "stream"
                }
            ],
            "execution_count": 3
        },
        {
            "cell_type": "code",
            "source": [
                "# write spark dataframe to SQL Table using JDBC\r\n",
                "# using build in JDBC connector to write to SQL Server Master Instance\r\n",
                "\r\n",
                "servername = \"jdbc:sqlserver://master-0.master-svc\"\r\n",
                "dbname = \"COE\"\r\n",
                "url = servername + \";\" + \"databaseName=\" + dbname + \";\"\r\n",
                "print(url)\r\n",
                "\r\n",
                "dbtable = 'dbo.vendor_sentiment_model_scores'\r\n",
                "user = \"bdcadmin\"\r\n",
                "password = \"Admin@@123\"\r\n",
                "\r\n",
                "try:\r\n",
                "    df.write.format('jdbc').mode('overwrite').option('url', url).option('dbtable', dbtable).option('user', user).option('password', password).save()\r\n",
                "except ValueError as error:\r\n",
                "    print(\"JDBC Write failed\", error)\r\n",
                "\r\n",
                "print(\"JDBC write is done!\")"
            ],
            "metadata": {
                "azdata_cell_guid": "16265576-f022-4db3-8023-c0ef2f9f2828"
            },
            "outputs": [
                {
                    "data": {
                        "text/plain": "FloatProgress(value=0.0, bar_style='info', description='Progress:', layout=Layout(height='25px', width='50%'),…",
                        "application/vnd.jupyter.widget-view+json": {
                            "version_major": 2,
                            "version_minor": 0,
                            "model_id": "f36636bef5184f60a1451ecd1827474e"
                        }
                    },
                    "metadata": {},
                    "output_type": "display_data"
                },
                {
                    "name": "stdout",
                    "text": "jdbc:sqlserver://master-0.master-svc;databaseName=COE;\nJDBC write is done!",
                    "output_type": "stream"
                }
            ],
            "execution_count": 4
        },
        {
            "cell_type": "code",
            "source": [
                "# Read to Spark from SQL using JDBC\r\n",
                "# print(\"Read from SQL server table using Spark\")\r\n",
                "\r\n",
                "sql_data = spark.read.format('jdbc').option('url', url).option('dbtable', dbtable).option('user', user).option('password', password).load()\r\n",
                "sql_data.show(5)"
            ],
            "metadata": {
                "azdata_cell_guid": "0f9cdfc3-7368-4765-8e13-609e72c9b7ae"
            },
            "outputs": [
                {
                    "data": {
                        "text/plain": "FloatProgress(value=0.0, bar_style='info', description='Progress:', layout=Layout(height='25px', width='50%'),…",
                        "application/vnd.jupyter.widget-view+json": {
                            "version_major": 2,
                            "version_minor": 0,
                            "model_id": "7bdacef8c93c49a09e9b8217f762a1b0"
                        }
                    },
                    "metadata": {},
                    "output_type": "display_data"
                },
                {
                    "name": "stdout",
                    "text": "+--------------+--------------------+--------------------+--------------------+--------------------+--------+--------+-------+--------+\n|            id|      search_company|             summary|               title|        scoring_text|polarity|positive|neutral|negative|\n+--------------+--------------------+--------------------+--------------------+--------------------+--------+--------+-------+--------+\n|20082425521615|C&S ELECTRIC LIMITED|Siemens gets CCI ...|Siemens gets CCI ...|{\"news\":\"Siemens ...|Positive|   0.625|  0.094|    null|\n|20082425521617|POWER TOOLS AND T...|WELCOME TO THE WO...|POWER TOOLS & TAC...|{\"news\":\"WELCOME ...|Positive|   0.333|  0.167|    null|\n|20082425521618|SHRI SAI ENTERPRISES|The product portf...|Shri Sai Enterprises|{\"news\":\"The prod...|Positive|     1.0|   null|    null|\n|20082425521616|      ESSAR FORGINGS|Manufacturers & S...|      ESSAR FORGINGS|{\"news\":\"Manufact...|Negative|    null|   null|     1.5|\n|20082425521621|KAZIKHAN ENGINEER...|Kazikhan Engineer...|Kazikhan Engineer...|{\"news\":\"Kazikhan...|Negative|    null|  0.167|     0.5|\n+--------------+--------------------+--------------------+--------------------+--------------------+--------+--------+-------+--------+\nonly showing top 5 rows",
                    "output_type": "stream"
                }
            ],
            "execution_count": 5
        }
    ]
}