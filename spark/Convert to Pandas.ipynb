{
    "metadata": {
        "kernelspec": {
            "name": "pysparkkernel",
            "display_name": "PySpark",
            "language": ""
        },
        "language_info": {
            "name": "pyspark",
            "mimetype": "text/x-python",
            "codemirror_mode": {
                "name": "python",
                "version": 3
            },
            "pygments_lexer": "python3"
        }
    },
    "nbformat_minor": 2,
    "nbformat": 4,
    "cells": [
        {
            "cell_type": "code",
            "source": [
                "import pandas as pd"
            ],
            "metadata": {
                "azdata_cell_guid": "b42dc425-b85f-4433-8075-8c2e08cf7c3e"
            },
            "outputs": [
                {
                    "name": "stdout",
                    "text": "Starting Spark application\n",
                    "output_type": "stream"
                },
                {
                    "data": {
                        "text/plain": "<IPython.core.display.HTML object>",
                        "text/html": "<table>\n<tr><th>ID</th><th>YARN Application ID</th><th>Kind</th><th>State</th><th>Spark UI</th><th>Driver log</th><th>Current session?</th></tr><tr><td>286</td><td>application_1607925552807_0394</td><td>pyspark</td><td>idle</td><td><a target=\"_blank\" href=\"https://172.31.61.93:30443/gateway/default/yarn/proxy/application_1607925552807_0394/\">Link</a></td><td><a target=\"_blank\" href=\"https://172.31.61.93:30443/gateway/default/yarn/container/container_1607925552807_0394_01_000001/root\">Link</a></td><td>✔</td></tr></table>"
                    },
                    "metadata": {},
                    "output_type": "display_data"
                },
                {
                    "data": {
                        "text/plain": "FloatProgress(value=0.0, bar_style='info', description='Progress:', layout=Layout(height='25px', width='50%'),…",
                        "application/vnd.jupyter.widget-view+json": {
                            "version_major": 2,
                            "version_minor": 0,
                            "model_id": "42baeda18bd249249f04a4544a4b8167"
                        }
                    },
                    "metadata": {},
                    "output_type": "display_data"
                },
                {
                    "name": "stdout",
                    "text": "SparkSession available as 'spark'.\n",
                    "output_type": "stream"
                },
                {
                    "data": {
                        "text/plain": "FloatProgress(value=0.0, bar_style='info', description='Progress:', layout=Layout(height='25px', width='50%'),…",
                        "application/vnd.jupyter.widget-view+json": {
                            "version_major": 2,
                            "version_minor": 0,
                            "model_id": "eda829db1e95498d8df5f5389fd4d845"
                        }
                    },
                    "metadata": {},
                    "output_type": "display_data"
                },
                {
                    "name": "stderr",
                    "text": "An error was encountered:\nNo module named 'pandas'\nTraceback (most recent call last):\nImportError: No module named 'pandas'\n\n",
                    "output_type": "stream"
                }
            ],
            "execution_count": 2
        },
        {
            "cell_type": "code",
            "source": [
                "df = sqlContext.createDataFrame(\r\n",
                "    [\r\n",
                "        (1, \"Jon\", \"Snow\"), \r\n",
                "            ], \r\n",
                "    ('id', 'firstName', 'lastName')\r\n",
                ")"
            ],
            "metadata": {
                "azdata_cell_guid": "55feb036-255b-4fb3-98cf-d825eebeaf7f"
            },
            "outputs": [
                {
                    "data": {
                        "text/plain": "FloatProgress(value=0.0, bar_style='info', description='Progress:', layout=Layout(height='25px', width='50%'),…",
                        "application/vnd.jupyter.widget-view+json": {
                            "version_major": 2,
                            "version_minor": 0,
                            "model_id": "3cd175b2178a470e964352a70510e531"
                        }
                    },
                    "metadata": {},
                    "output_type": "display_data"
                }
            ],
            "execution_count": 3
        },
        {
            "cell_type": "code",
            "source": [
                "df.show()"
            ],
            "metadata": {
                "azdata_cell_guid": "dd78d9e9-96c5-4c52-8c39-ce682659251d"
            },
            "outputs": [
                {
                    "data": {
                        "text/plain": "FloatProgress(value=0.0, bar_style='info', description='Progress:', layout=Layout(height='25px', width='50%'),…",
                        "application/vnd.jupyter.widget-view+json": {
                            "version_major": 2,
                            "version_minor": 0,
                            "model_id": "0f6d4085572740f3bf25d891939f22cd"
                        }
                    },
                    "metadata": {},
                    "output_type": "display_data"
                },
                {
                    "name": "stdout",
                    "text": "+---+---------+--------+\n| id|firstName|lastName|\n+---+---------+--------+\n|  1|      Jon|    Snow|\n+---+---------+--------+",
                    "output_type": "stream"
                }
            ],
            "execution_count": 4
        },
        {
            "cell_type": "code",
            "source": [
                "df_pd = df.toPandas()"
            ],
            "metadata": {
                "azdata_cell_guid": "ed0dc4c8-3b2b-48ff-8ec7-91a45d07889c"
            },
            "outputs": [
                {
                    "data": {
                        "text/plain": "FloatProgress(value=0.0, bar_style='info', description='Progress:', layout=Layout(height='25px', width='50%'),…",
                        "application/vnd.jupyter.widget-view+json": {
                            "version_major": 2,
                            "version_minor": 0,
                            "model_id": "62beefd3832b42d3aed6c30a13af203f"
                        }
                    },
                    "metadata": {},
                    "output_type": "display_data"
                },
                {
                    "name": "stderr",
                    "text": "An error was encountered:\nPandas >= 0.19.2 must be installed; however, it was not found.\nTraceback (most recent call last):\n  File \"/tmp/nm-local-dir/usercache/root/appcache/application_1607925552807_0394/container_1607925552807_0394_01_000001/pyspark.zip/pyspark/sql/dataframe.py\", line 2084, in toPandas\n    require_minimum_pandas_version()\n  File \"/tmp/nm-local-dir/usercache/root/appcache/application_1607925552807_0394/container_1607925552807_0394_01_000001/pyspark.zip/pyspark/sql/utils.py\", line 129, in require_minimum_pandas_version\n    \"it was not found.\" % minimum_pandas_version)\nImportError: Pandas >= 0.19.2 must be installed; however, it was not found.\n\n",
                    "output_type": "stream"
                }
            ],
            "execution_count": 5
        },
        {
            "cell_type": "code",
            "source": [
                " print(df_pd)"
            ],
            "metadata": {
                "azdata_cell_guid": "ff2a368e-6e07-4e86-b230-f9d00fedd3ff"
            },
            "outputs": [],
            "execution_count": null
        }
    ]
}