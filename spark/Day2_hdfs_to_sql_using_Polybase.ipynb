{
    "metadata": {
        "kernelspec": {
            "name": "SQL",
            "display_name": "SQL",
            "language": "sql"
        },
        "language_info": {
            "name": "sql",
            "version": ""
        }
    },
    "nbformat_minor": 2,
    "nbformat": 4,
    "cells": [
        {
            "cell_type": "code",
            "source": [
                "-- Enable Polybase\r\n",
                "-- exec sp_configure @configname = 'polybase enabled', @configvalue = 1;\r\n",
                "-- RECONFIGURE with override;\r\n",
                "\r\n",
                "-- exec sp_configure 'polybase enabled';\r\n",
                "\r\n",
                "select SERVERPROPERTY('IsPolyBaseInstalled')"
            ],
            "metadata": {
                "azdata_cell_guid": "5748ac4a-38bc-4cea-af85-c07ae181dada"
            },
            "outputs": [],
            "execution_count": null
        },
        {
            "cell_type": "code",
            "source": [
                "-- database in context\r\n",
                "use COE\r\n",
                "go"
            ],
            "metadata": {
                "azdata_cell_guid": "6b630646-4b2b-4484-a0de-299fe7153181"
            },
            "outputs": [],
            "execution_count": null
        },
        {
            "cell_type": "code",
            "source": [
                "-- create external data source for HDFS inside SQLBDC\r\n",
                "--\r\n",
                "\r\n",
                "if not exists(select * from sys.external_data_sources where name = 'SqlStoragePool')\r\n",
                "    create external data source SqlStoragePool\r\n",
                "    with (location = 'sqlhdfs://controller-svc/default')"
            ],
            "metadata": {
                "azdata_cell_guid": "4f86b5a6-ae2a-4edb-a00c-9aa444424051"
            },
            "outputs": [],
            "execution_count": null
        },
        {
            "cell_type": "code",
            "source": [
                "-- Create file format for parquet file with appropriate properties\r\n",
                "--\r\n",
                "if not exists(select * from sys.external_file_formats where name = 'parquet_file')\r\n",
                "    create external file FORMAT parquet_file\r\n",
                "    with (\r\n",
                "\r\n",
                "        format_type = PARQUET\r\n",
                "    )"
            ],
            "metadata": {
                "azdata_cell_guid": "cc2af6f4-5562-4aa8-9ad9-11cadd5eedfc"
            },
            "outputs": [],
            "execution_count": null
        },
        {
            "cell_type": "code",
            "source": [
                "-- create external table\r\n",
                "-- ingesting data from HDFS or Hive to SqlStoragePool\r\n",
                "\r\n",
                "if exists(select * from sys.external_tables where name = 'scm_h_po_demo_data')\r\n",
                "    drop EXTERNAL TABLE [COE].[demo].[scm_h_po_demo_data]\r\n",
                "begin \r\n",
                "    create EXTERNAL TABLE [COE].[demo].[scm_h_po_demo_data]\r\n",
                "    (        \r\n",
                "        \"HPO_PO_Number\" varchar(30) not null,\r\n",
                "        \"HPO_Job_Code\" varchar(8) not null\r\n",
                "    )\r\n",
                "\r\n",
                "    with \r\n",
                "    (\r\n",
                "        DATA_SOURCE = SqlStoragePool,\r\n",
                "        LOCATION = '/user/hive/warehouse/po_data_sample',\r\n",
                "        FILE_FORMAT = parquet_file\r\n",
                "\r\n",
                "    )\r\n",
                "end;\r\n",
                ""
            ],
            "metadata": {
                "azdata_cell_guid": "618cef26-e505-432e-a01c-f30708e694f0"
            },
            "outputs": [],
            "execution_count": null
        },
        {
            "cell_type": "code",
            "source": [
                "select * from demo.scm_h_po_demo_data"
            ],
            "metadata": {
                "azdata_cell_guid": "d1e700c8-68ed-47fa-9639-c2871d4cd7e3"
            },
            "outputs": [],
            "execution_count": null
        }
    ]
}