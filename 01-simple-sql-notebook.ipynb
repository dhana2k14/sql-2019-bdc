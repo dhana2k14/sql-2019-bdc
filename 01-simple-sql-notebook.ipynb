{
    "metadata": {
        "kernelspec": {
            "name": "SQL",
            "display_name": "SQL",
            "language": "sql"
        },
        "language_info": {
            "name": "sql",
            "version": ""
        }
    },
    "nbformat_minor": 2,
    "nbformat": 4,
    "cells": [
        {
            "cell_type": "markdown",
            "source": [
                "# A Simple SQL Notebook in SQL 2019\n",
                "\n",
                "The below code cell will print top 10 rows"
            ],
            "metadata": {
                "azdata_cell_guid": "29685a67-7340-449f-9d48-0833c99eae7e"
            }
        },
        {
            "cell_type": "code",
            "source": [
                "use coe declare @model_name varchar(100) = 'vendor model (R)' select top 10 * from [COE].[dbo].vendor_score_models where model_name = @model_name order by vendor_code"
            ],
            "metadata": {
                "azdata_cell_guid": "2c134caa-09d4-4eda-81ce-2157b073bf4e"
            },
            "outputs": [],
            "execution_count": null
        }
    ]
}