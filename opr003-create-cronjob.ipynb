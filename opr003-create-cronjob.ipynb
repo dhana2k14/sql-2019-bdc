{
    "metadata": {
        "kernelspec": {
            "name": "python3",
            "display_name": "Python 3"
        },
        "language_info": {
            "name": "python",
            "version": ""
        },
        "azdata": {
            "side_effects": true,
            "symlink": true
        }
    },
    "nbformat_minor": 2,
    "nbformat": 4,
    "cells": [
        {
            "cell_type": "markdown",
            "source": [
                "OPR003 - Create cronjob\n",
                "=======================\n",
                "\n",
                "Description\n",
                "-----------\n",
                "\n",
                "### Parameters"
            ],
            "metadata": {
                "azdata_cell_guid": "4154b20e-7309-4689-9844-c1881a0e8116"
            }
        },
        {
            "cell_type": "code",
            "source": [
                "import getpass\n",
                "\n",
                "app_name = \"app-\" + getpass.getuser().lower()\n",
                "app_version = \"v1\"\n",
                "\n",
                "schedule = \"*/30 * * * *\"\n",
                "\n",
                "test_cert_store_root = \"/var/opt/secrets/test-certificates\""
            ],
            "metadata": {
                "tags": [
                    "parameters"
                ],
                "azdata_cell_guid": "efa914fe-0c3b-4d0a-84b2-96e50342e94a"
            },
            "outputs": [],
            "execution_count": null
        },
        {
            "cell_type": "markdown",
            "source": [
                "### Common functions\n",
                "\n",
                "Define helper functions used in this notebook."
            ],
            "metadata": {
                "azdata_cell_guid": "b6e56b5b-6b25-40b7-8852-c770b5c25004"
            }
        },
        {
            "cell_type": "code",
            "source": [
                "# Define `run` function for transient fault handling, suggestions on error, and scrolling updates on Windows\n",
                "import sys\n",
                "import os\n",
                "import re\n",
                "import json\n",
                "import platform\n",
                "import shlex\n",
                "import shutil\n",
                "import datetime\n",
                "\n",
                "from subprocess import Popen, PIPE\n",
                "from IPython.display import Markdown\n",
                "\n",
                "retry_hints = {} # Output in stderr known to be transient, therefore automatically retry\n",
                "error_hints = {} # Output in stderr where a known SOP/TSG exists which will be HINTed for further help\n",
                "install_hint = {} # The SOP to help install the executable if it cannot be found\n",
                "\n",
                "first_run = True\n",
                "rules = None\n",
                "debug_logging = False\n",
                "\n",
                "def run(cmd, return_output=False, no_output=False, retry_count=0):\n",
                "    \"\"\"Run shell command, stream stdout, print stderr and optionally return output\n",
                "\n",
                "    NOTES:\n",
                "\n",
                "    1.  Commands that need this kind of ' quoting on Windows e.g.:\n",
                "\n",
                "            kubectl get nodes -o jsonpath={.items[?(@.metadata.annotations.pv-candidate=='data-pool')].metadata.name}\n",
                "\n",
                "        Need to actually pass in as '\"':\n",
                "\n",
                "            kubectl get nodes -o jsonpath={.items[?(@.metadata.annotations.pv-candidate=='\"'data-pool'\"')].metadata.name}\n",
                "\n",
                "        The ' quote approach, although correct when pasting into Windows cmd, will hang at the line:\n",
                "        \n",
                "            `iter(p.stdout.readline, b'')`\n",
                "\n",
                "        The shlex.split call does the right thing for each platform, just use the '\"' pattern for a '\n",
                "    \"\"\"\n",
                "    MAX_RETRIES = 5\n",
                "    output = \"\"\n",
                "    retry = False\n",
                "\n",
                "    global first_run\n",
                "    global rules\n",
                "\n",
                "    if first_run:\n",
                "        first_run = False\n",
                "        rules = load_rules()\n",
                "\n",
                "    # When running `azdata sql query` on Windows, replace any \\n in \"\"\" strings, with \" \", otherwise we see:\n",
                "    #\n",
                "    #    ('HY090', '[HY090] [Microsoft][ODBC Driver Manager] Invalid string or buffer length (0) (SQLExecDirectW)')\n",
                "    #\n",
                "    if platform.system() == \"Windows\" and cmd.startswith(\"azdata sql query\"):\n",
                "        cmd = cmd.replace(\"\\n\", \" \")\n",
                "\n",
                "    # shlex.split is required on bash and for Windows paths with spaces\n",
                "    #\n",
                "    cmd_actual = shlex.split(cmd)\n",
                "\n",
                "    # Store this (i.e. kubectl, python etc.) to support binary context aware error_hints and retries\n",
                "    #\n",
                "    user_provided_exe_name = cmd_actual[0].lower()\n",
                "\n",
                "    # When running python, use the python in the ADS sandbox ({sys.executable})\n",
                "    #\n",
                "    if cmd.startswith(\"python \"):\n",
                "        cmd_actual[0] = cmd_actual[0].replace(\"python\", sys.executable)\n",
                "\n",
                "        # On Mac, when ADS is not launched from terminal, LC_ALL may not be set, which causes pip installs to fail\n",
                "        # with:\n",
                "        #\n",
                "        #    UnicodeDecodeError: 'ascii' codec can't decode byte 0xc5 in position 4969: ordinal not in range(128)\n",
                "        #\n",
                "        # Setting it to a default value of \"en_US.UTF-8\" enables pip install to complete\n",
                "        #\n",
                "        if platform.system() == \"Darwin\" and \"LC_ALL\" not in os.environ:\n",
                "            os.environ[\"LC_ALL\"] = \"en_US.UTF-8\"\n",
                "\n",
                "    # When running `kubectl`, if AZDATA_OPENSHIFT is set, use `oc`\n",
                "    #\n",
                "    if cmd.startswith(\"kubectl \") and \"AZDATA_OPENSHIFT\" in os.environ:\n",
                "        cmd_actual[0] = cmd_actual[0].replace(\"kubectl\", \"oc\")\n",
                "\n",
                "    # To aid supportabilty, determine which binary file will actually be executed on the machine\n",
                "    #\n",
                "    which_binary = None\n",
                "\n",
                "    # Special case for CURL on Windows.  The version of CURL in Windows System32 does not work to\n",
                "    # get JWT tokens, it returns \"(56) Failure when receiving data from the peer\".  If another instance\n",
                "    # of CURL exists on the machine use that one.  (Unfortunately the curl.exe in System32 is almost\n",
                "    # always the first curl.exe in the path, and it can't be uninstalled from System32, so here we\n",
                "    # look for the 2nd installation of CURL in the path)\n",
                "    if platform.system() == \"Windows\" and cmd.startswith(\"curl \"):\n",
                "        path = os.getenv('PATH')\n",
                "        for p in path.split(os.path.pathsep):\n",
                "            p = os.path.join(p, \"curl.exe\")\n",
                "            if os.path.exists(p) and os.access(p, os.X_OK):\n",
                "                if p.lower().find(\"system32\") == -1:\n",
                "                    cmd_actual[0] = p\n",
                "                    which_binary = p\n",
                "                    break\n",
                "\n",
                "    # Find the path based location (shutil.which) of the executable that will be run (and display it to aid supportability), this\n",
                "    # seems to be required for .msi installs of azdata.cmd/az.cmd.  (otherwise Popen returns FileNotFound) \n",
                "    #\n",
                "    # NOTE: Bash needs cmd to be the list of the space separated values hence shlex.split.\n",
                "    #\n",
                "    if which_binary == None:\n",
                "        which_binary = shutil.which(cmd_actual[0])\n",
                "\n",
                "    if which_binary == None:\n",
                "        if user_provided_exe_name in install_hint and install_hint[user_provided_exe_name] is not None:\n",
                "            display(Markdown(f'HINT: Use [{install_hint[user_provided_exe_name][0]}]({install_hint[user_provided_exe_name][1]}) to resolve this issue.'))\n",
                "\n",
                "        raise FileNotFoundError(f\"Executable '{cmd_actual[0]}' not found in path (where/which)\")\n",
                "    else:   \n",
                "        cmd_actual[0] = which_binary\n",
                "\n",
                "    start_time = datetime.datetime.now().replace(microsecond=0)\n",
                "\n",
                "    print(f\"START: {cmd} @ {start_time} ({datetime.datetime.utcnow().replace(microsecond=0)} UTC)\")\n",
                "    print(f\"       using: {which_binary} ({platform.system()} {platform.release()} on {platform.machine()})\")\n",
                "    print(f\"       cwd: {os.getcwd()}\")\n",
                "\n",
                "    # Command-line tools such as CURL and AZDATA HDFS commands output\n",
                "    # scrolling progress bars, which causes Jupyter to hang forever, to\n",
                "    # workaround this, use no_output=True\n",
                "    #\n",
                "\n",
                "    # Work around a infinite hang when a notebook generates a non-zero return code, break out, and do not wait\n",
                "    #\n",
                "    wait = True \n",
                "\n",
                "    try:\n",
                "        if no_output:\n",
                "            p = Popen(cmd_actual)\n",
                "        else:\n",
                "            p = Popen(cmd_actual, stdout=PIPE, stderr=PIPE, bufsize=1)\n",
                "            with p.stdout:\n",
                "                for line in iter(p.stdout.readline, b''):\n",
                "                    line = line.decode()\n",
                "                    if return_output:\n",
                "                        output = output + line\n",
                "                    else:\n",
                "                        if cmd.startswith(\"azdata notebook run\"): # Hyperlink the .ipynb file\n",
                "                            regex = re.compile('  \"(.*)\"\\: \"(.*)\"') \n",
                "                            match = regex.match(line)\n",
                "                            if match:\n",
                "                                if match.group(1).find(\"HTML\") != -1:\n",
                "                                    display(Markdown(f' - \"{match.group(1)}\": \"{match.group(2)}\"'))\n",
                "                                else:\n",
                "                                    display(Markdown(f' - \"{match.group(1)}\": \"[{match.group(2)}]({match.group(2)})\"'))\n",
                "\n",
                "                                    wait = False\n",
                "                                    break # otherwise infinite hang, have not worked out why yet.\n",
                "                        else:\n",
                "                            print(line, end='')\n",
                "                            if rules is not None:\n",
                "                                apply_expert_rules(line)\n",
                "\n",
                "        if wait:\n",
                "            p.wait()\n",
                "    except FileNotFoundError as e:\n",
                "        if install_hint is not None:\n",
                "            display(Markdown(f'HINT: Use {install_hint} to resolve this issue.'))\n",
                "\n",
                "        raise FileNotFoundError(f\"Executable '{cmd_actual[0]}' not found in path (where/which)\") from e\n",
                "\n",
                "    exit_code_workaround = 0 # WORKAROUND: azdata hangs on exception from notebook on p.wait()\n",
                "\n",
                "    if not no_output:\n",
                "        for line in iter(p.stderr.readline, b''):\n",
                "            try:\n",
                "                line_decoded = line.decode()\n",
                "            except UnicodeDecodeError:\n",
                "                # NOTE: Sometimes we get characters back that cannot be decoded(), e.g.\n",
                "                #\n",
                "                #   \\xa0\n",
                "                #\n",
                "                # For example see this in the response from `az group create`:\n",
                "                #\n",
                "                # ERROR: Get Token request returned http error: 400 and server \n",
                "                # response: {\"error\":\"invalid_grant\",# \"error_description\":\"AADSTS700082: \n",
                "                # The refresh token has expired due to inactivity.\\xa0The token was \n",
                "                # issued on 2018-10-25T23:35:11.9832872Z\n",
                "                #\n",
                "                # which generates the exception:\n",
                "                #\n",
                "                # UnicodeDecodeError: 'utf-8' codec can't decode byte 0xa0 in position 179: invalid start byte\n",
                "                #\n",
                "                print(\"WARNING: Unable to decode stderr line, printing raw bytes:\")\n",
                "                print(line)\n",
                "                line_decoded = \"\"\n",
                "                pass\n",
                "            else:\n",
                "\n",
                "                # azdata emits a single empty line to stderr when doing an hdfs cp, don't\n",
                "                # print this empty \"ERR:\" as it confuses.\n",
                "                #\n",
                "                if line_decoded == \"\":\n",
                "                    continue\n",
                "                \n",
                "                print(f\"STDERR: {line_decoded}\", end='')\n",
                "\n",
                "                if line_decoded.startswith(\"An exception has occurred\") or line_decoded.startswith(\"ERROR: An error occurred while executing the following cell\"):\n",
                "                    exit_code_workaround = 1\n",
                "\n",
                "                # inject HINTs to next TSG/SOP based on output in stderr\n",
                "                #\n",
                "                if user_provided_exe_name in error_hints:\n",
                "                    for error_hint in error_hints[user_provided_exe_name]:\n",
                "                        if line_decoded.find(error_hint[0]) != -1:\n",
                "                            display(Markdown(f'HINT: Use [{error_hint[1]}]({error_hint[2]}) to resolve this issue.'))\n",
                "\n",
                "                # apply expert rules (to run follow-on notebooks), based on output\n",
                "                #\n",
                "                if rules is not None:\n",
                "                    apply_expert_rules(line_decoded)\n",
                "\n",
                "                # Verify if a transient error, if so automatically retry (recursive)\n",
                "                #\n",
                "                if user_provided_exe_name in retry_hints:\n",
                "                    for retry_hint in retry_hints[user_provided_exe_name]:\n",
                "                        if line_decoded.find(retry_hint) != -1:\n",
                "                            if retry_count < MAX_RETRIES:\n",
                "                                print(f\"RETRY: {retry_count} (due to: {retry_hint})\")\n",
                "                                retry_count = retry_count + 1\n",
                "                                output = run(cmd, return_output=return_output, retry_count=retry_count)\n",
                "\n",
                "                                if return_output:\n",
                "                                    return output\n",
                "                                else:\n",
                "                                    return\n",
                "\n",
                "    elapsed = datetime.datetime.now().replace(microsecond=0) - start_time\n",
                "\n",
                "    # WORKAROUND: We avoid infinite hang above in the `azdata notebook run` failure case, by inferring success (from stdout output), so\n",
                "    # don't wait here, if success known above\n",
                "    #\n",
                "    if wait: \n",
                "        if p.returncode != 0:\n",
                "            raise SystemExit(f'Shell command:\\n\\n\\t{cmd} ({elapsed}s elapsed)\\n\\nreturned non-zero exit code: {str(p.returncode)}.\\n')\n",
                "    else:\n",
                "        if exit_code_workaround !=0 :\n",
                "            raise SystemExit(f'Shell command:\\n\\n\\t{cmd} ({elapsed}s elapsed)\\n\\nreturned non-zero exit code: {str(exit_code_workaround)}.\\n')\n",
                "\n",
                "    print(f'\\nSUCCESS: {elapsed}s elapsed.\\n')\n",
                "\n",
                "    if return_output:\n",
                "        return output\n",
                "\n",
                "def load_json(filename):\n",
                "    \"\"\"Load a json file from disk and return the contents\"\"\"\n",
                "\n",
                "    with open(filename, encoding=\"utf8\") as json_file:\n",
                "        return json.load(json_file)\n",
                "\n",
                "def load_rules():\n",
                "    \"\"\"Load any 'expert rules' from the metadata of this notebook (.ipynb) that should be applied to the stderr of the running executable\"\"\"\n",
                "\n",
                "    # Load this notebook as json to get access to the expert rules in the notebook metadata.\n",
                "    #\n",
                "    try:\n",
                "        j = load_json(\"opr003-create-cronjob.ipynb\")\n",
                "    except:\n",
                "        pass # If the user has renamed the book, we can't load ourself.  NOTE: Is there a way in Jupyter, to know your own filename?\n",
                "    else:\n",
                "        if \"metadata\" in j and \\\n",
                "            \"azdata\" in j[\"metadata\"] and \\\n",
                "            \"expert\" in j[\"metadata\"][\"azdata\"] and \\\n",
                "            \"expanded_rules\" in j[\"metadata\"][\"azdata\"][\"expert\"]:\n",
                "\n",
                "            rules = j[\"metadata\"][\"azdata\"][\"expert\"][\"expanded_rules\"]\n",
                "\n",
                "            rules.sort() # Sort rules, so they run in priority order (the [0] element).  Lowest value first.\n",
                "\n",
                "            # print (f\"EXPERT: There are {len(rules)} rules to evaluate.\")\n",
                "\n",
                "            return rules\n",
                "\n",
                "def apply_expert_rules(line):\n",
                "    \"\"\"Determine if the stderr line passed in, matches the regular expressions for any of the 'expert rules', if so\n",
                "    inject a 'HINT' to the follow-on SOP/TSG to run\"\"\"\n",
                "\n",
                "    global rules\n",
                "\n",
                "    for rule in rules:\n",
                "        notebook = rule[1]\n",
                "        cell_type = rule[2]\n",
                "        output_type = rule[3] # i.e. stream or error\n",
                "        output_type_name = rule[4] # i.e. ename or name \n",
                "        output_type_value = rule[5] # i.e. SystemExit or stdout\n",
                "        details_name = rule[6]  # i.e. evalue or text \n",
                "        expression = rule[7].replace(\"\\\\*\", \"*\") # Something escaped *, and put a \\ in front of it!\n",
                "\n",
                "        if debug_logging:\n",
                "            print(f\"EXPERT: If rule '{expression}' satisfied', run '{notebook}'.\")\n",
                "\n",
                "        if re.match(expression, line, re.DOTALL):\n",
                "\n",
                "            if debug_logging:\n",
                "                print(\"EXPERT: MATCH: name = value: '{0}' = '{1}' matched expression '{2}', therefore HINT '{4}'\".format(output_type_name, output_type_value, expression, notebook))\n",
                "\n",
                "            match_found = True\n",
                "\n",
                "            display(Markdown(f'HINT: Use [{notebook}]({notebook}) to resolve this issue.'))\n",
                "\n",
                "\n",
                "\n",
                "\n",
                "print('Common functions defined successfully.')\n",
                "\n",
                "# Hints for binary (transient fault) retry, (known) error and install guide\n",
                "#\n",
                "retry_hints = {'kubectl': ['A connection attempt failed because the connected party did not properly respond after a period of time, or established connection failed because connected host has failed to respond'], 'azdata': ['Endpoint sql-server-master does not exist', 'Endpoint livy does not exist', 'Failed to get state for cluster', 'Endpoint webhdfs does not exist', 'Adaptive Server is unavailable or does not exist', 'Error: Address already in use']}\n",
                "error_hints = {'kubectl': [['no such host', 'TSG010 - Get configuration contexts', '../monitor-k8s/tsg010-get-kubernetes-contexts.ipynb'], ['No connection could be made because the target machine actively refused it', 'TSG056 - Kubectl fails with No connection could be made because the target machine actively refused it', '../repair/tsg056-kubectl-no-connection-could-be-made.ipynb']], 'azdata': [['azdata login', 'SOP028 - azdata login', '../common/sop028-azdata-login.ipynb'], ['The token is expired', 'SOP028 - azdata login', '../common/sop028-azdata-login.ipynb'], ['Reason: Unauthorized', 'SOP028 - azdata login', '../common/sop028-azdata-login.ipynb'], ['Max retries exceeded with url: /api/v1/bdc/endpoints', 'SOP028 - azdata login', '../common/sop028-azdata-login.ipynb'], ['Look at the controller logs for more details', 'TSG027 - Observe cluster deployment', '../diagnose/tsg027-observe-bdc-create.ipynb'], ['provided port is already allocated', 'TSG062 - Get tail of all previous container logs for pods in BDC namespace', '../log-files/tsg062-tail-bdc-previous-container-logs.ipynb'], ['Create cluster failed since the existing namespace', 'SOP061 - Delete a big data cluster', '../install/sop061-delete-bdc.ipynb'], ['Failed to complete kube config setup', 'TSG067 - Failed to complete kube config setup', '../repair/tsg067-failed-to-complete-kube-config-setup.ipynb'], ['Error processing command: \"ApiError', 'TSG110 - Azdata returns ApiError', '../repair/tsg110-azdata-returns-apierror.ipynb'], ['Error processing command: \"ControllerError', 'TSG036 - Controller logs', '../log-analyzers/tsg036-get-controller-logs.ipynb'], ['ERROR: 500', 'TSG046 - Knox gateway logs', '../log-analyzers/tsg046-get-knox-logs.ipynb'], ['Data source name not found and no default driver specified', 'SOP069 - Install ODBC for SQL Server', '../install/sop069-install-odbc-driver-for-sql-server.ipynb'], [\"Can't open lib 'ODBC Driver 17 for SQL Server\", 'SOP069 - Install ODBC for SQL Server', '../install/sop069-install-odbc-driver-for-sql-server.ipynb'], ['Control plane upgrade failed. Failed to upgrade controller.', 'TSG108 - View the controller upgrade config map', '../diagnose/tsg108-controller-failed-to-upgrade.ipynb']]}\n",
                "install_hint = {'kubectl': ['SOP036 - Install kubectl command line interface', '../install/sop036-install-kubectl.ipynb'], 'azdata': ['SOP063 - Install azdata CLI (using package manager)', '../install/sop063-packman-install-azdata.ipynb']}"
            ],
            "metadata": {
                "tags": [
                    "hide_input"
                ],
                "azdata_cell_guid": "29bc5561-8fe7-49f1-90a5-e8d344be983b"
            },
            "outputs": [],
            "execution_count": null
        },
        {
            "cell_type": "markdown",
            "source": [
                "### Get the Kubernetes namespace for the big data cluster\n",
                "\n",
                "Get the namespace of the Big Data Cluster use the kubectl command line\n",
                "interface .\n",
                "\n",
                "**NOTE:**\n",
                "\n",
                "If there is more than one Big Data Cluster in the target Kubernetes\n",
                "cluster, then either:\n",
                "\n",
                "-   set \\[0\\] to the correct value for the big data cluster.\n",
                "-   set the environment variable AZDATA\\_NAMESPACE, before starting\n",
                "    Azure Data Studio."
            ],
            "metadata": {
                "azdata_cell_guid": "c42075aa-ce4c-4941-8474-a9b7abb8c46b"
            }
        },
        {
            "cell_type": "code",
            "source": [
                "# Place Kubernetes namespace name for BDC into 'namespace' variable\n",
                "\n",
                "if \"AZDATA_NAMESPACE\" in os.environ:\n",
                "    namespace = os.environ[\"AZDATA_NAMESPACE\"]\n",
                "else:\n",
                "    try:\n",
                "        namespace = run(f'kubectl get namespace --selector=MSSQL_CLUSTER -o jsonpath={{.items[0].metadata.name}}', return_output=True)\n",
                "    except:\n",
                "        from IPython.display import Markdown\n",
                "        print(f\"ERROR: Unable to find a Kubernetes namespace with label 'MSSQL_CLUSTER'.  SQL Server Big Data Cluster Kubernetes namespaces contain the label 'MSSQL_CLUSTER'.\")\n",
                "        display(Markdown(f'HINT: Use [TSG081 - Get namespaces (Kubernetes)](../monitor-k8s/tsg081-get-kubernetes-namespaces.ipynb) to resolve this issue.'))\n",
                "        display(Markdown(f'HINT: Use [TSG010 - Get configuration contexts](../monitor-k8s/tsg010-get-kubernetes-contexts.ipynb) to resolve this issue.'))\n",
                "        display(Markdown(f'HINT: Use [SOP011 - Set kubernetes configuration context](../common/sop011-set-kubernetes-context.ipynb) to resolve this issue.'))\n",
                "        raise\n",
                "\n",
                "print(f'The SQL Server Big Data Cluster Kubernetes namespace is: {namespace}')"
            ],
            "metadata": {
                "tags": [
                    "hide_input"
                ],
                "azdata_cell_guid": "49fbd5d4-564e-4d28-9dac-9ec20d9efc58"
            },
            "outputs": [],
            "execution_count": null
        },
        {
            "cell_type": "markdown",
            "source": [
                "### Create a temporary directory to stage files"
            ],
            "metadata": {
                "azdata_cell_guid": "e37f8220-28a8-4a27-a8fa-35e12b29bd1f"
            }
        },
        {
            "cell_type": "code",
            "source": [
                "# Create a temporary directory to hold configuration files\n",
                "\n",
                "import tempfile\n",
                "\n",
                "temp_dir = tempfile.mkdtemp()\n",
                "\n",
                "print(f\"Temporary directory created: {temp_dir}\")"
            ],
            "metadata": {
                "tags": [
                    "hide_input"
                ],
                "azdata_cell_guid": "c8cc6772-e270-44e1-8a09-fb3e088bec02"
            },
            "outputs": [],
            "execution_count": null
        },
        {
            "cell_type": "markdown",
            "source": [
                "### Helper function to save configuration files to disk"
            ],
            "metadata": {
                "azdata_cell_guid": "8b1e29c1-f2c6-4ec1-bcc0-beec69df0b63"
            }
        },
        {
            "cell_type": "code",
            "source": [
                "# Define helper function 'save_file' to save configuration files to the temporary directory created above\n",
                "import os\n",
                "import io\n",
                "\n",
                "def save_file(filename, contents):\n",
                "    with io.open(os.path.join(temp_dir, filename), \"w\", encoding='utf8', newline='\\n') as text_file:\n",
                "      text_file.write(contents)\n",
                "\n",
                "      print(\"File saved: \" + os.path.join(temp_dir, filename))\n",
                "\n",
                "print(\"Function `save_file` defined successfully.\")"
            ],
            "metadata": {
                "tags": [
                    "hide_input"
                ],
                "azdata_cell_guid": "29a4f52a-a8d4-472e-9ca8-8708b0141e46"
            },
            "outputs": [],
            "execution_count": null
        },
        {
            "cell_type": "markdown",
            "source": [
                "### Get the app-deploy URLs"
            ],
            "metadata": {
                "azdata_cell_guid": "22fc9bc8-6c1b-412c-87f2-d136f1250f97"
            }
        },
        {
            "cell_type": "code",
            "source": [
                "controller_url = run('azdata bdc endpoint list --endpoint=\"controller\" --query endpoint', return_output=True)\n",
                "controller_url = controller_url[1:-3]\n",
                "print(f\"controller_url: {controller_url}\")\n",
                "\n",
                "swagger_url = run(f\"azdata app describe --name {app_name} --version {app_version} --query links.swagger\", return_output=True)\n",
                "swagger_url = swagger_url[1:-3]\n",
                "print(f\"swagger_url: {swagger_url}\")"
            ],
            "metadata": {
                "azdata_cell_guid": "cd8897fc-a3ae-42e8-a4f6-b5903ed9c2a1"
            },
            "outputs": [],
            "execution_count": null
        },
        {
            "cell_type": "markdown",
            "source": [
                "### Create a shell script to be run by the CRON job\n",
                "\n",
                "This shell script gets a JWT token, and then uses it to run the\n",
                "app-deploy application."
            ],
            "metadata": {
                "azdata_cell_guid": "504cb6e2-f477-427a-ac97-4a1f8dca0445"
            }
        },
        {
            "cell_type": "code",
            "source": [
                "run_sh = f\"\"\"#!/bin/bash\n",
                "if [ -z \"$1\" ]; then\n",
                "    echo \"No dns-svc IP passed in, therefore non AD enabled cluster\"\n",
                "else\n",
                "    echo \"Add dns-svc IP address $1 to /etc/resolv.conf\"\n",
                "\n",
                "    # NOTE: sed -i does not work directly on /etc/resolv.conf, hence this tmp file shuffle\n",
                "    #\n",
                "    cp -f /etc/resolv.conf /tmp\n",
                "    sed \"s/nameserver/nameserver $1/\" -i /tmp/resolv.conf\n",
                "    cp -f /tmp/resolv.conf /etc/resolv.conf\n",
                "    rm /tmp/resolv.conf\n",
                "fi\n",
                "\n",
                "echo 'Grep cert store for self-generated CA cert'\n",
                "ls /etc/ssl/certs | grep cacert\n",
                "\n",
                "echo 'Count of certs in cert store'\n",
                "ls /etc/ssl/certs | wc -l\n",
                "\n",
                "echo 'Get JWT token from controller'\n",
                "USERNAME=`cat /var/run/secrets/credentials/controller-login/username`\n",
                "PASSWORD=`cat /var/run/secrets/credentials/controller-login/password`\n",
                "TOKEN=`curl -u $USERNAME:$PASSWORD -s -X POST --data '{{}}' {controller_url}/api/v1/token | jq -r '.access_token'`\n",
                "\n",
                "echo 'Get `swagger.json` from  {swagger_url}'\n",
                "SWAGGER=`curl -u $USERNAME:$PASSWORD -s -X GET {swagger_url}`\n",
                "\n",
                "HOST=`echo $SWAGGER | jq -r '.host'`\n",
                "echo \"Host: $HOST\"\n",
                "\n",
                "if [ -z \"$HOST\" ]; then\n",
                "    echo \"ERROR: Host is '' (empty), running curl again not in silent mode, so errors can be seen.\"\n",
                "    curl -u $USERNAME:$PASSWORD -X GET {swagger_url}\n",
                "fi\n",
                "\n",
                "BASEPATH=`echo $SWAGGER | jq -r '.basePath'`\n",
                "echo \"Base Path: $BASEPATH\"\n",
                "\n",
                "echo \"Running: https://${{HOST}}${{BASEPATH}}/run\"\n",
                "curl -X POST -H \"Authorization: Bearer ${{TOKEN}}\" -H \"Content-Type: application/json\" --data '{{\"Value\":\"\"}}' https://${{HOST}}${{BASEPATH}}/run\n",
                "echo \"Complete\"\n",
                "\"\"\"\n",
                "\n",
                "save_file(\"run.sh\", run_sh)"
            ],
            "metadata": {
                "azdata_cell_guid": "0bfefac5-4495-4f1b-ae07-e11928044eb1"
            },
            "outputs": [],
            "execution_count": null
        },
        {
            "cell_type": "code",
            "source": [
                "configmap = run(f\"kubectl get configmap --field-selector metadata.name={app_name}-{app_version} -n {namespace} --no-headers -o jsonpath={{.items}}\", return_output=True)\n",
                "\n",
                "if configmap != \"[]\":\n",
                "    run(f\"kubectl delete configmap {app_name}-{app_version} -n {namespace}\")\n",
                "\n",
                "run(f'kubectl create configmap {app_name}-{app_version} --from-file=\"{os.path.join(temp_dir, \"run.sh\")}\" -n {namespace}')"
            ],
            "metadata": {
                "azdata_cell_guid": "66770e10-d9d6-435b-9c2a-9b3000285b71"
            },
            "outputs": [],
            "execution_count": null
        },
        {
            "cell_type": "markdown",
            "source": [
                "### Ensure the self generated Root CA configmap exists"
            ],
            "metadata": {
                "azdata_cell_guid": "80758983-22b8-4b7e-8c03-e74c45320ad3"
            }
        },
        {
            "cell_type": "code",
            "source": [
                "import os.path\n",
                "from os import path\n",
                "\n",
                "controller = run(f'kubectl get pod --selector=app=controller -n {namespace} -o jsonpath={{.items[0].metadata.name}}', return_output=True)\n",
                "\n",
                "print(f\"Controller pod name: {controller}\")\n",
                "\n",
                "cwd = os.getcwd()\n",
                "os.chdir(temp_dir) # Workaround kubectl bug on Windows, can't put c:\\ on kubectl cp cmd line \n",
                "\n",
                "# Delete the existing one if exists\n",
                "configmap = run(f\"kubectl get configmap --field-selector metadata.name=cacert -n {namespace} --no-headers -o jsonpath={{.items}}\", return_output=True)\n",
                "\n",
                "if configmap != \"[]\":\n",
                "    run(f'kubectl -n {namespace} delete configmap cacert')\n",
                "\n",
                "# Download new root CA, if exists\n",
                "run(f'kubectl cp {controller}:{test_cert_store_root}/cacert.pem cacert.crt -c controller -n {namespace}')\n",
                "\n",
                "if path.exists(\"cacert.crt\"):\n",
                "    run(f'kubectl -n {namespace} create configmap cacert --from-file=\"cacert.crt\"')\\\n",
                "\n",
                "os.chdir(cwd)"
            ],
            "metadata": {
                "azdata_cell_guid": "06a7357a-6943-4427-b4da-bdd0a2a3fcf1"
            },
            "outputs": [],
            "execution_count": null
        },
        {
            "cell_type": "markdown",
            "source": [
                "### Ensure the cluster Root CA configmap exists"
            ],
            "metadata": {
                "azdata_cell_guid": "02142a08-81ec-4044-9829-dcba3c73c93d"
            }
        },
        {
            "cell_type": "code",
            "source": [
                "import os.path\n",
                "from os import path\n",
                "\n",
                "controller = run(f'kubectl get pod --selector=app=controller -n {namespace} -o jsonpath={{.items[0].metadata.name}}', return_output=True)\n",
                "\n",
                "print(f\"Controller pod name: {controller}\")\n",
                "\n",
                "cwd = os.getcwd()\n",
                "os.chdir(temp_dir) # Workaround kubectl bug on Windows, can't put c:\\ on kubectl cp cmd line \n",
                "\n",
                "# Delete the existing one if exists\n",
                "configmap = run(f\"kubectl get configmap --field-selector metadata.name=cluster-ca-certificate -n {namespace} --no-headers -o jsonpath={{.items}}\", return_output=True)\n",
                "\n",
                "if configmap != \"[]\":\n",
                "    run(f'kubectl -n {namespace} delete configmap cluster-ca-certificate')\n",
                "\n",
                "# Download cluster Root CA, if exists\n",
                "run(f'kubectl cp {controller}:{test_cert_store_root}/cluster-ca-certificate.crt cluster-ca-certificate.crt -c controller -n {namespace}')\n",
                "\n",
                "if path.exists(\"cluster-ca-certificate.crt\"):\n",
                "    run(f'kubectl -n {namespace} create configmap cluster-ca-certificate --from-file=\"cluster-ca-certificate.crt\"')\\\n",
                "\n",
                "os.chdir(cwd)"
            ],
            "metadata": {
                "azdata_cell_guid": "ea6bbb50-fca7-4c79-8b59-c0393f218aab"
            },
            "outputs": [],
            "execution_count": null
        },
        {
            "cell_type": "markdown",
            "source": [
                "### Get dns-svc IP address\n",
                "\n",
                "To enable DNS resolution in the cronjob pod, get the external IP address\n",
                "of the DNS Service."
            ],
            "metadata": {
                "azdata_cell_guid": "997fcc9f-3b79-4324-b108-1eb0d9a46dc2"
            }
        },
        {
            "cell_type": "code",
            "source": [
                "dns_service_exists = run(f\"kubectl get service --field-selector metadata.name=dns-svc -n {namespace} --no-headers -o jsonpath={{.items}}\", return_output=True)\n",
                "\n",
                "if dns_service_exists == \"[]\":\n",
                "  dns_svc_ip = \"\"\n",
                "  print(\"No DNS Service found, must be non AD enabled cluster\")\n",
                "else:\n",
                "  dns_svc_ip = run(f'kubectl get svc dns-svc -n {namespace} --no-headers -o jsonpath={{.spec.clusterIP}}', return_output=True)\n",
                "  print(\"DNS Service IP: \" + dns_svc_ip)"
            ],
            "metadata": {
                "azdata_cell_guid": "96b50d63-6ed7-476d-8742-a2cd9b0c0375"
            },
            "outputs": [],
            "execution_count": null
        },
        {
            "cell_type": "markdown",
            "source": [
                "### Define CronJob spec"
            ],
            "metadata": {
                "azdata_cell_guid": "d1317e6e-cce9-4a5d-b0a6-57b771ec232b"
            }
        },
        {
            "cell_type": "code",
            "source": [
                "cron_yaml = f\"\"\"\n",
                "apiVersion: batch/v1beta1\n",
                "kind: CronJob\n",
                "metadata:\n",
                "  name: {app_name}-{app_version}\n",
                "spec:\n",
                "  concurrencyPolicy: Replace\n",
                "  schedule: \"{schedule}\"\n",
                "  jobTemplate:\n",
                "    spec:\n",
                "      template:\n",
                "        spec:\n",
                "          containers:\n",
                "          - name: runner\n",
                "            image: mcr.microsoft.com/mssql/bdc/mssql-mlserver-py-runtime:latest\n",
                "            command: [\"/scripts/run.sh\"]\n",
                "            args: [\"{dns_svc_ip}\"]\n",
                "            volumeMounts:\n",
                "            - name: {app_name}-{app_version}\n",
                "              mountPath: /scripts\n",
                "            - name: cacert\n",
                "              mountPath: /etc/ssl/certs/cacert.crt\n",
                "              subPath: cacert.crt\n",
                "              readOnly: false\n",
                "            - name: cluster-ca-certificate\n",
                "              mountPath: /etc/ssl/certs/cluster-ca-certificate.crt\n",
                "              subPath: cluster-ca-certificate.crt\n",
                "              readOnly: false\n",
                "            - name: controller-login-secret\n",
                "              mountPath: /var/run/secrets/credentials/controller-login\n",
                "              readOnly: true\n",
                "          volumes:\n",
                "          - name: {app_name}-{app_version}\n",
                "            configMap:\n",
                "              name: {app_name}-{app_version}\n",
                "              defaultMode: 0744\n",
                "          - name: cacert\n",
                "            configMap:\n",
                "              name: cacert\n",
                "          - name: cluster-ca-certificate\n",
                "            configMap:\n",
                "              name: cluster-ca-certificate\n",
                "          - name: controller-login-secret\n",
                "            secret:\n",
                "              defaultMode: 360\n",
                "              secretName: controller-login-secret\n",
                "          restartPolicy: OnFailure\n",
                "\"\"\"\n",
                "\n",
                "save_file(\"cron.yaml\", cron_yaml)"
            ],
            "metadata": {
                "azdata_cell_guid": "b87cb6dc-a7e2-4e96-9fc3-0a43efac1a9f"
            },
            "outputs": [],
            "execution_count": null
        },
        {
            "cell_type": "markdown",
            "source": [
                "### Delete the CronJob (if previously created)"
            ],
            "metadata": {
                "azdata_cell_guid": "c5e75706-5061-4494-8778-cda4c488b543"
            }
        },
        {
            "cell_type": "code",
            "source": [
                "cronjob = run(f\"kubectl get cronjob --field-selector metadata.name={app_name}-{app_version} -n {namespace} --no-headers -o jsonpath={{.items}}\", return_output=True)\n",
                "\n",
                "if cronjob != \"[]\":\n",
                "    run(f\"kubectl delete cronjob {app_name}-{app_version} -n {namespace}\")"
            ],
            "metadata": {
                "azdata_cell_guid": "6eb28792-e52c-4e0f-87da-bd81324db111"
            },
            "outputs": [],
            "execution_count": null
        },
        {
            "cell_type": "markdown",
            "source": [
                "### Create the CronJob"
            ],
            "metadata": {
                "azdata_cell_guid": "fc86953d-47e0-411e-934b-71293256db13"
            }
        },
        {
            "cell_type": "code",
            "source": [
                "run(f'kubectl apply -f \"{os.path.join(temp_dir, \"cron.yaml\")}\" -n {namespace}')"
            ],
            "metadata": {
                "azdata_cell_guid": "67ba1e98-cc52-4f66-802a-9ed4ba807053"
            },
            "outputs": [],
            "execution_count": null
        },
        {
            "cell_type": "markdown",
            "source": [
                "### Test the CronJob\n",
                "\n",
                "Manually create a job from the CronJob"
            ],
            "metadata": {
                "azdata_cell_guid": "6a95708d-feac-443e-9f80-ab322686fe36"
            }
        },
        {
            "cell_type": "code",
            "source": [
                "import os\n",
                "\n",
                "# Openshift doesn't support creating a job using this syntax\n",
                "#    error: failed to create job: jobs.batch \"canary-health-v1-test\" is forbidden: cannot\n",
                "#    set blockOwnerDeletion in this case because cannot find RESTMapping for APIVersion\n",
                "#    apps/v1 Kind CronJob: no matches for kind \"CronJob\" in version \"apps/v1\"\n",
                "#\n",
                "if \"AZDATA_OPENSHIFT\" not in os.environ:\n",
                "    job = run(f'kubectl get jobs -l job-name={app_name}-{app_version}-test -o jsonpath={{.items}} -n {namespace}', return_output=True)\n",
                "\n",
                "    if job != \"[]\":\n",
                "        run(f'kubectl delete job {app_name}-{app_version}-test -n {namespace}')\n",
                "\n",
                "    run(f'kubectl create job --from=cronjob/{app_name}-{app_version} {app_name}-{app_version}-test -n {namespace}')"
            ],
            "metadata": {
                "azdata_cell_guid": "43e00c26-9cad-4b95-81e4-944b8f6d7c6c"
            },
            "outputs": [],
            "execution_count": null
        },
        {
            "cell_type": "markdown",
            "source": [
                "### Get the test job"
            ],
            "metadata": {
                "azdata_cell_guid": "f3d256e3-dfd9-45fd-bc24-26f0cd438915"
            }
        },
        {
            "cell_type": "code",
            "source": [
                "if \"AZDATA_OPENSHIFT\" not in os.environ:\n",
                "    run(f'kubectl get job {app_name}-{app_version}-test -n {namespace}')"
            ],
            "metadata": {
                "azdata_cell_guid": "3a01f2b6-4ced-4e45-b2fc-03b3446e5bd7"
            },
            "outputs": [],
            "execution_count": null
        },
        {
            "cell_type": "markdown",
            "source": [
                "### Describe the test job"
            ],
            "metadata": {
                "azdata_cell_guid": "d01c1430-bab3-4e65-b308-13cd437ea652"
            }
        },
        {
            "cell_type": "code",
            "source": [
                "if \"AZDATA_OPENSHIFT\" not in os.environ:\n",
                "    run(f'kubectl describe job {app_name}-{app_version}-test -n {namespace}')"
            ],
            "metadata": {
                "azdata_cell_guid": "671112ea-c6c3-4296-b08d-8f7af6b3b0a9"
            },
            "outputs": [],
            "execution_count": null
        },
        {
            "cell_type": "markdown",
            "source": [
                "### Get the Pod name for the test job"
            ],
            "metadata": {
                "azdata_cell_guid": "4773881e-aa92-4ec3-a734-d7659447eb44"
            }
        },
        {
            "cell_type": "code",
            "source": [
                "if \"AZDATA_OPENSHIFT\" not in os.environ:\n",
                "    run(f'kubectl get pods -l job-name={app_name}-{app_version}-test -n {namespace}')\n",
                "\n",
                "    pod = run(f'kubectl get pod -l job-name={app_name}-{app_version}-test -n {namespace} -o jsonpath={{.items[0].metadata.name}}', return_output=True)\n",
                "\n",
                "    print(f\"CronJob Pod name: {pod}\")"
            ],
            "metadata": {
                "azdata_cell_guid": "520ad8ba-723f-4319-8e4b-50cd8feab124"
            },
            "outputs": [],
            "execution_count": null
        },
        {
            "cell_type": "markdown",
            "source": [
                "### Get the events from the Pod for the test job"
            ],
            "metadata": {
                "azdata_cell_guid": "2aa80d7f-71e9-4636-8baa-dfd7ffa5a4a9"
            }
        },
        {
            "cell_type": "code",
            "source": [
                "if \"AZDATA_OPENSHIFT\" not in os.environ:\n",
                "    run(f'kubectl get event --namespace {namespace} --field-selector involvedObject.name={pod}')"
            ],
            "metadata": {
                "azdata_cell_guid": "12cdb833-d6cf-45f9-a712-4dbe5fe68c4c"
            },
            "outputs": [],
            "execution_count": null
        },
        {
            "cell_type": "markdown",
            "source": [
                "### Get the logs from the Pod for the test job"
            ],
            "metadata": {
                "azdata_cell_guid": "d10807e8-0644-4440-982c-6be93a5d4bfc"
            }
        },
        {
            "cell_type": "code",
            "source": [
                "if \"AZDATA_OPENSHIFT\" not in os.environ:\n",
                "    try:\n",
                "        output = run(f'kubectl logs {pod} -c runner -n {namespace}', return_output=True)\n",
                "        print(output.replace(\"\\\\n\", \"\\n\").replace(\"\\\\u001b[0;31m\", \"\").replace(\"\\\\u001b[0;32m\", \"\").replace(\"\\\\u001b[1;32m\", \"\").replace(\"\\\\u001b[0;34m\", \"\").replace(\"\\\\u001b[0;36m\", \"\").replace(\"\\\\u001b[0m\", \"\"))\n",
                "    except:\n",
                "        pass\n",
                "\n",
                "    try:\n",
                "        output = run(f'kubectl logs {pod} -c runner -n {namespace} --previous', return_output=True)\n",
                "        print(output.replace(\"\\\\n\", \"\\n\").replace(\"\\\\u001b[0;31m\", \"\").replace(\"\\\\u001b[0;32m\", \"\").replace(\"\\\\u001b[1;32m\", \"\").replace(\"\\\\u001b[0;34m\", \"\").replace(\"\\\\u001b[0;36m\", \"\").replace(\"\\\\u001b[0m\", \"\"))\n",
                "    except:\n",
                "        pass"
            ],
            "metadata": {
                "azdata_cell_guid": "bfd7865d-281b-4d71-9964-5c9d7d379892"
            },
            "outputs": [],
            "execution_count": null
        },
        {
            "cell_type": "markdown",
            "source": [
                "### Delete the test job"
            ],
            "metadata": {
                "azdata_cell_guid": "3fec062e-d671-4b6c-a2e5-7d9bfdcb3151"
            }
        },
        {
            "cell_type": "code",
            "source": [
                "if \"AZDATA_OPENSHIFT\" not in os.environ:\n",
                "    run(f'kubectl delete job {app_name}-{app_version}-test -n {namespace}')"
            ],
            "metadata": {
                "azdata_cell_guid": "4f48b2ae-f621-4fd3-92af-b84e33f17502"
            },
            "outputs": [],
            "execution_count": null
        },
        {
            "cell_type": "markdown",
            "source": [
                "### Clean up temporary directory for staging configuration files"
            ],
            "metadata": {
                "azdata_cell_guid": "eab0283b-2967-47f9-aec2-72e6c803a2db"
            }
        },
        {
            "cell_type": "code",
            "source": [
                "# Delete the temporary directory used to hold configuration files\n",
                "\n",
                "import shutil\n",
                "\n",
                "shutil.rmtree(temp_dir)\n",
                "\n",
                "print(f'Temporary directory deleted: {temp_dir}')"
            ],
            "metadata": {
                "tags": [
                    "hide_input"
                ],
                "azdata_cell_guid": "0e1c7c86-d0f3-4ab6-88d0-f0ac80e9b7e3"
            },
            "outputs": [],
            "execution_count": null
        },
        {
            "cell_type": "code",
            "source": [
                "print('Notebook execution complete.')"
            ],
            "metadata": {
                "azdata_cell_guid": "822ece45-abb7-4342-9a4e-396e8120e0ad"
            },
            "outputs": [],
            "execution_count": null
        },
        {
            "cell_type": "markdown",
            "source": [
                "Related\n",
                "-------\n",
                "\n",
                "-   [OPR004 - Suspend\n",
                "    cronjob](../notebook-o16n/opr004-suspend-cronjob.ipynb)\n",
                "\n",
                "-   [OPR600 - Monitor infrastructure\n",
                "    (Kubernetes)](../notebook-o16n/opr600-monitor-infrastructure-k8s.ipynb)\n",
                "\n",
                "-   [OPR900 - Troubleshoot run\n",
                "    app-deploy](../notebook-o16n/opr900-troubleshoot-run-app-deploy.ipynb)\n",
                "\n",
                "-   [RUN999 - Cleanup Master Pool runner\n",
                "    infrastructure](../notebook-runner/run999-cleanup-infrastructure.ipynb)"
            ],
            "metadata": {
                "azdata_cell_guid": "8f1cd68f-dd78-4815-ad25-ccdc554bcb35"
            }
        }
    ]
}