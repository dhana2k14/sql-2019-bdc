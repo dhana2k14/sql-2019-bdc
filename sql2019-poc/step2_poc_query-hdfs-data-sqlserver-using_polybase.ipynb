{
    "metadata": {
        "kernelspec": {
            "name": "SQL",
            "display_name": "SQL",
            "language": "sql"
        },
        "language_info": {
            "name": "sql",
            "version": ""
        }
    },
    "nbformat_minor": 2,
    "nbformat": 4,
    "cells": [
        {
            "cell_type": "markdown",
            "source": [
                "# Query HDFS Data\n",
                "\n",
                "In this notebook we will see how to query data from HDFS within SQL Server Master Instance of SQL 2019 BDC using <strong>PolyBase</strong>. We can also use **PySpark** to do this task."
            ],
            "metadata": {
                "azdata_cell_guid": "182d3581-c184-4435-abc2-661173333334"
            }
        },
        {
            "cell_type": "markdown",
            "source": [
                "## Set Database Context"
            ],
            "metadata": {
                "azdata_cell_guid": "bb7ef2e8-e20e-4d0f-b375-091f4117da32"
            }
        },
        {
            "cell_type": "code",
            "source": [
                "set nocount on\r\n",
                "use coe"
            ],
            "metadata": {
                "azdata_cell_guid": "fec9e21e-6cf0-4e3a-8bdc-1808843e1fe0",
                "tags": [
                    "hide_input"
                ]
            },
            "outputs": [],
            "execution_count": null
        },
        {
            "cell_type": "markdown",
            "source": [
                "## Create External Data Source"
            ],
            "metadata": {
                "azdata_cell_guid": "5186d402-3edd-4b5c-94f4-790b314302e4"
            }
        },
        {
            "cell_type": "code",
            "source": [
                "-- create external data source for HDFS inside SQLBDC\r\n",
                "--\r\n",
                "\r\n",
                "if not exists(select * from sys.external_data_sources where name = 'SqlStoragePool')\r\n",
                "    create external data source SqlStoragePool\r\n",
                "    with (location = 'sqlhdfs://controller-svc/default')"
            ],
            "metadata": {
                "azdata_cell_guid": "13ca6a29-7d47-40a1-85a1-4ef127691fb4",
                "tags": [
                    "hide_input"
                ]
            },
            "outputs": [],
            "execution_count": null
        },
        {
            "cell_type": "markdown",
            "source": [
                "## Create External File Format"
            ],
            "metadata": {
                "azdata_cell_guid": "360b5596-f307-40d0-8be0-53c9be8d3e36"
            }
        },
        {
            "cell_type": "code",
            "source": [
                "-- Create file format for parquet file with appropriate properties\r\n",
                "--\r\n",
                "if not exists(select * from sys.external_file_formats where name = 'parquet_file')\r\n",
                "    create external file FORMAT parquet_file\r\n",
                "    with (\r\n",
                "\r\n",
                "        format_type = PARQUET\r\n",
                "    )"
            ],
            "metadata": {
                "azdata_cell_guid": "82bd18ec-db19-4465-967b-bacc7ffad0e8",
                "tags": [
                    "hide_input"
                ]
            },
            "outputs": [],
            "execution_count": null
        },
        {
            "cell_type": "markdown",
            "source": [
                "## Create External Table"
            ],
            "metadata": {
                "azdata_cell_guid": "01223a47-7841-4362-af33-1cc566910718"
            }
        },
        {
            "cell_type": "code",
            "source": [
                "-- create a schema for external tables\r\n",
                "--\r\n",
                "-- this step should be permformed using new query window on the target database"
            ],
            "metadata": {
                "azdata_cell_guid": "e4f6e559-a91d-46d5-af15-f99abfd6ffba",
                "tags": []
            },
            "outputs": [],
            "execution_count": null
        },
        {
            "cell_type": "markdown",
            "source": [
                "## Store data from HDFS into SQL Data Pool"
            ],
            "metadata": {
                "azdata_cell_guid": "a8fbd4bc-90a3-4cba-bf36-2f0d01511b3e"
            }
        },
        {
            "cell_type": "code",
            "source": [
                "use COE \r\n",
                "go \r\n",
                "--eip-mas data\r\n",
                "--\r\n",
                "\r\n",
                "--1.\"GEN_M_Jobs\"\r\n",
                "\r\n",
                "if exists(select * from sys.external_tables where name = 'gen_m_jobs_pq_hdfs')\r\n",
                "    drop EXTERNAL TABLE [COE].[eipmas].[gen_m_jobs_pq_hdfs]\r\n",
                "begin \r\n",
                "    create EXTERNAL TABLE [COE].[eipmas].[gen_m_jobs_pq_hdfs]\r\n",
                "    (\r\n",
                "        \"MJOB_Job_Code\" varchar(8) not null,\r\n",
                "        \"MJOB_Description\" varchar(100) not null,\r\n",
                "        \"MJOB_Long_Description\" varchar(500) not null,\r\n",
                "        \"MJOB_AB_Code\" int null,\r\n",
                "        \"MJOB_CPLT_Code\" int null,\r\n",
                "        \"MJOB_Main_Sub_Dept\" varchar(1) not null,\r\n",
                "        \"MJOB_Source_Tag\" varchar(1) not null,\r\n",
                "        \"MJOB_Job_ID\" varchar(4) null,\r\n",
                "        \"MJOB_ISActive\" varchar(1) not null,\r\n",
                "        \"MJOB_Inserted_On\" datetime2 not null,\r\n",
                "        \"MJOB_Inserted_By\" int null,\r\n",
                "        \"MJOB_Updated_On\" datetime2 null,\r\n",
                "        \"MJOB_Updated_By\" int null,\r\n",
                "        \"MJOB_Is_EIP_Converted\" varchar(1) null,\r\n",
                "        \"MJOB_Identity\" int not null,\r\n",
                "        \"Batch_Id\" bigint null,\r\n",
                "        \"Load_Date\" datetime2 null\r\n",
                "    )\r\n",
                "\r\n",
                "  with \r\n",
                "    (\r\n",
                "        DATA_SOURCE = SqlStoragePool,\r\n",
                "        LOCATION = '/user/hive/warehouse/gen_m_jobs',\r\n",
                "        FILE_FORMAT = parquet_file\r\n",
                "\r\n",
                "    )\r\n",
                "end;\r\n",
                "\r\n",
                "--2. \"GEN_M_Materials\"\r\n",
                "\r\n",
                "if exists(select * from sys.external_tables where name = 'gen_m_materials_pq_hdfs')\r\n",
                "    drop EXTERNAL TABLE [COE].[eipmas].[gen_m_materials_pq_hdfs]\r\n",
                "begin \r\n",
                "    create EXTERNAL TABLE [COE].[eipmas].[gen_m_materials_pq_hdfs]\r\n",
                "    (\r\n",
                "        \"MMAT_Material_Code\" varchar(15) not null,\r\n",
                "        \"MMAT_MG_Code\" varchar(6) not null,\r\n",
                "        \"MMAT_Company_Code\" int not null,\r\n",
                "        \"MMAT_Short_Name\" varchar(150) null,\r\n",
                "        \"MMAT_Material_Description\" varchar(500) not null,\r\n",
                "        \"MMAT_UOM_Code\" int not null,\r\n",
                "        \"MMAT_Standard_Code\" varchar(15) null,\r\n",
                "        \"MMAT_BTN_Code\" varchar(50) null,\r\n",
                "        \"MMAT_Category_Type_Code\" int null,\r\n",
                "        \"MMAT_Category_Type_Detail_Code\" int null,\r\n",
                "        \"MMAT_ISActive\" varchar(1) not null,\r\n",
                "        \"MMAT_Inserted_On\" datetime2 not null,\r\n",
                "        \"MMAT_Inserted_By\" int null,\r\n",
                "        \"MMAT_Updated_On\" datetime2 null,\r\n",
                "        \"MMAT_Updated_By\" int null,\r\n",
                "        \"MMAT_Is_Planning_Allowed\" varchar(1) null,\r\n",
                "        \"Batch_Id\" bigint null,\r\n",
                "        \"Load_Date\" datetime2 null\r\n",
                "    )\r\n",
                "\r\n",
                "  with \r\n",
                "    (\r\n",
                "        DATA_SOURCE = SqlStoragePool,\r\n",
                "        LOCATION = '/user/hive/warehouse/gen_m_materials',\r\n",
                "        FILE_FORMAT = parquet_file\r\n",
                "\r\n",
                "    )\r\n",
                "end;\r\n",
                "\r\n",
                "--eip-pmp data\r\n",
                "--\r\n",
                "\r\n",
                "--1. \"GEN_L_MATERIAL_CATEGORY_MATERIAL_GROUP\"\r\n",
                "\r\n",
                "if exists(select * from sys.external_tables where name = 'gen_l_material_category_material_group_pq_hdfs')\r\n",
                "    drop EXTERNAL TABLE [COE].[eippmp].[gen_l_material_category_material_group_pq_hdfs]\r\n",
                "begin \r\n",
                "    create EXTERNAL TABLE [COE].[eippmp].[gen_l_material_category_material_group_pq_hdfs]\r\n",
                "\r\n",
                "    (\r\n",
                "\r\n",
                "        \"LMCMG_Material_Category_Code\" varchar(15) not null,\r\n",
                "        \"LMCMG_MG_Code\" varchar(30) not null,\r\n",
                "        \"LMCMG_Company_Code\" int not null,\r\n",
                "        \"LMCMG_Inserted_On\" datetime2 not null,\r\n",
                "        \"LMCMG_Inserted_By\" int not null,\r\n",
                "        \"LMCMG_Updated_On\" datetime2 null,\r\n",
                "        \"LMCMG_Updated_By\" int null\r\n",
                "\r\n",
                "    )\r\n",
                "\r\n",
                "  with \r\n",
                "    (\r\n",
                "        DATA_SOURCE = SqlStoragePool,\r\n",
                "        LOCATION = '/user/hive/warehouse/gen_l_material_category_material_group',\r\n",
                "        FILE_FORMAT = parquet_file\r\n",
                "\r\n",
                "    )\r\n",
                "end;\r\n",
                "\r\n",
                "-- sqlmas data\r\n",
                "--\r\n",
                "\r\n",
                "--1. Gen_M_Vendors \r\n",
                "--\r\n",
                "\r\n",
                "if exists(select * from sys.external_tables where name = 'gen_m_vendors_pq_hdfs')\r\n",
                "    drop EXTERNAL TABLE [COE].[sqlmas].[gen_m_vendors_pq_hdfs]\r\n",
                "begin \r\n",
                "    create EXTERNAL TABLE [COE].[sqlmas].[gen_m_vendors_pq_hdfs]\r\n",
                "\r\n",
                "    (\r\n",
                "\r\n",
                "        \"Vendor_Code\" varchar(15) null,\r\n",
                "        \"Vendor_Name\" varchar(200) null,\r\n",
                "        \"Company_Code\" int null,\r\n",
                "        \"IsActive\" varchar(1) null\r\n",
                "\r\n",
                "    )\r\n",
                "\r\n",
                "  with \r\n",
                "    (\r\n",
                "        DATA_SOURCE = SqlStoragePool,\r\n",
                "        LOCATION = '/user/hive/warehouse/gen_m_vendors',\r\n",
                "        FILE_FORMAT = parquet_file\r\n",
                "\r\n",
                "    )\r\n",
                "end;\r\n",
                ""
            ],
            "metadata": {
                "azdata_cell_guid": "2ffa0312-2fab-4d4b-beef-a3e989794073",
                "tags": []
            },
            "outputs": [],
            "execution_count": null
        },
        {
            "cell_type": "code",
            "source": [
                "use COE \r\n",
                "go \r\n",
                "-- count data from parquet file in hdfs\r\n",
                "--\r\n",
                "\r\n",
                "select count(*) as #scm_h_purchase_orders from eipscm.scm_h_purchase_orders_pq_hdfs\r\n",
                "select count(*) as #scm_d_purchase_orders from eipscm.scm_d_purchase_orders_pq_hdfs\r\n",
                "select count(*) as #scm_h_mrn_pq_hdfs from eipscm.scm_h_mrn_pq_hdfs\r\n",
                "select count(*) as #scm_d_mrn_pq_hdfs from eipscm.scm_d_mrn_pq_hdfs\r\n",
                "select count(*) as #scm_h_gin_pq_hdfs from eipscm.scm_h_gin_pq_hdfs\r\n",
                "select count(*) as #scm_d_gin_pq_hdfs from eipscm.scm_d_gin_pq_hdfs\r\n",
                "select count(*) as #scm_h_bill_of_entry_pq_hdfs from eipscm.scm_h_bill_of_entry_pq_hdfs\r\n",
                "select count(*) as #scm_d_bill_of_entry_summary_pq_hdfs from eipscm.scm_d_bill_of_entry_summary_pq_hdfs\r\n",
                "select count(*) as #scm_d_offer from eipscm.scm_d_offer_pq_hdfs\r\n",
                "select count(*) as #scm_h_offer from eipscm.scm_h_offer_pq_hdfs\r\n",
                "select count(*) as #gen_m_jobs_pq_hdfs from eipmas.gen_m_jobs_pq_hdfs\r\n",
                "select count(*) as #gen_m_materials_pq_hdfs from eipmas.gen_m_materials_pq_hdfs\r\n",
                "select count(*) as #gen_l_material_category_material_group_pq_hdfs from eippmp.gen_l_material_category_material_group_pq_hdfs"
            ],
            "metadata": {
                "azdata_cell_guid": "55c41b9b-a56a-4d8b-9194-d69802dfa1d9",
                "tags": []
            },
            "outputs": [],
            "execution_count": null
        }
    ]
}